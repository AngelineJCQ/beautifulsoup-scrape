{
 "cells": [
  {
   "cell_type": "markdown",
   "metadata": {},
   "source": [
    "## Homework 3: Scraping Part One\n",
    "This homework asks you to scrape the dialogue from one act in Shakespeare, please follow the instructions and do the best you can. With the exception of the first cell that imports the request and the beautiful soup library, I have not pre-written any code for you. Do not be afraid--you may look at the tutorial for examples, as well as the Beautiful Soup documentation, and any other Python resource (such a Stack overflow) if need be. \n",
    "\n",
    "This homework is intended to be challenging, if you only get 70% of the stuff done that's great!"
   ]
  },
  {
   "cell_type": "code",
   "execution_count": 2,
   "metadata": {},
   "outputs": [],
   "source": [
    "import requests\n",
    "from bs4 import BeautifulSoup"
   ]
  },
  {
   "cell_type": "markdown",
   "metadata": {},
   "source": [
    "## Shakespeare \n",
    "I've posted some relatively simple HTML of the first act of William Shakespeare's The Tempest here: http://floatingmedia.com/columbia/tempest.html please use that URL to download the HTML and put it through Beautiful Soup. (It also may be very helpful for you to go to that page in chrome and inspect elements why you do this.) \n",
    "**Please note: there are 2 scenes in Act 1**\n",
    "\n"
   ]
  },
  {
   "cell_type": "markdown",
   "metadata": {},
   "source": [
    "In the cells below you should you make two lines--a variable that requests and reads the HTML from the URL (http://floatingmedia.com/columbia/tempest.html), and a second variable that passes the raw HTML into Beautiful Soup. You will use that beautiful soup variable to search the HTML."
   ]
  },
  {
   "cell_type": "code",
   "execution_count": 3,
   "metadata": {},
   "outputs": [],
   "source": [
    "shakespear_html = requests.get(\"http://floatingmedia.com/columbia/tempest.html\").content\n",
    "soup_doc = BeautifulSoup(shakespear_html, \"html.parser\")\n",
    "#print(soup_doc.prettify())"
   ]
  },
  {
   "cell_type": "markdown",
   "metadata": {},
   "source": [
    "Get the title of the play:\n",
    "\n"
   ]
  },
  {
   "cell_type": "code",
   "execution_count": 4,
   "metadata": {},
   "outputs": [
    {
     "data": {
      "text/plain": [
       "'The Tempest'"
      ]
     },
     "execution_count": 4,
     "metadata": {},
     "output_type": "execute_result"
    }
   ],
   "source": [
    "soup_doc.title.string"
   ]
  },
  {
   "cell_type": "markdown",
   "metadata": {},
   "source": [
    "Get the HTML that contains the setting of Act One Scene 1:"
   ]
  },
  {
   "cell_type": "code",
   "execution_count": 5,
   "metadata": {},
   "outputs": [
    {
     "data": {
      "text/plain": [
       "<strong>\n",
       "On a ship at sea</strong>"
      ]
     },
     "execution_count": 5,
     "metadata": {},
     "output_type": "execute_result"
    }
   ],
   "source": [
    "soup_doc.find('div').find_all('p')[1].strong"
   ]
  },
  {
   "cell_type": "markdown",
   "metadata": {},
   "source": [
    "Get the setting of Act One Scene 1 (without HTML tags):"
   ]
  },
  {
   "cell_type": "code",
   "execution_count": 243,
   "metadata": {},
   "outputs": [
    {
     "data": {
      "text/plain": [
       "'On a ship at sea'"
      ]
     },
     "execution_count": 243,
     "metadata": {},
     "output_type": "execute_result"
    }
   ],
   "source": [
    "soup_doc.find('div').find_all('p')[1].string.strip()"
   ]
  },
  {
   "cell_type": "markdown",
   "metadata": {},
   "source": [
    "Get the setting of scene 2"
   ]
  },
  {
   "cell_type": "code",
   "execution_count": 244,
   "metadata": {},
   "outputs": [
    {
     "data": {
      "text/plain": [
       "'The island. Before PROSPERO’S cell.'"
      ]
     },
     "execution_count": 244,
     "metadata": {},
     "output_type": "execute_result"
    }
   ],
   "source": [
    "soup_doc.find_all('div')[2].find_all('p')[1].string"
   ]
  },
  {
   "cell_type": "markdown",
   "metadata": {},
   "source": [
    "Get the name of the first character to speak in Scene 1"
   ]
  },
  {
   "cell_type": "code",
   "execution_count": 245,
   "metadata": {},
   "outputs": [
    {
     "data": {
      "text/plain": [
       "'Master. '"
      ]
     },
     "execution_count": 245,
     "metadata": {},
     "output_type": "execute_result"
    }
   ],
   "source": [
    "soup_doc.find_all('div')[1].find_all('ul')[0].find('strong').string"
   ]
  },
  {
   "cell_type": "markdown",
   "metadata": {},
   "source": [
    "Get a list of all of characters in Scene 1 (repeats are fine, you need a loop here)"
   ]
  },
  {
   "cell_type": "code",
   "execution_count": 246,
   "metadata": {},
   "outputs": [
    {
     "name": "stdout",
     "output_type": "stream",
     "text": [
      "['Master. ', 'Boatswain. ', 'Master. ', 'Boatswain. ', 'Alonso. ', 'Boatswain. ', 'Antonio. ', 'Boatswain. ', 'Gonzalo. ', 'Boatswain. ', 'Gonzalo. ', 'Boatswain. ', 'Gonzalo. ', 'Boatswain. ', 'Sebastian. ', 'Boatswain. ', 'Antonio. ', 'Gonzalo. ', 'Boatswain. ', 'Mariners. ', 'Boatswain. ', 'Gonzalo. ', 'Sebastian. ', 'Antonio. ', 'Gonzalo. ', 'Antonio. ', 'Sebastian. ', 'Gonzalo. ']\n"
     ]
    }
   ],
   "source": [
    "lines_sceneone = soup_doc.find_all('div')[1].find_all('ul')\n",
    "characters = []\n",
    "for line in lines_sceneone:\n",
    "    character = line.strong.string\n",
    "    characters.append(character)\n",
    "print(characters)"
   ]
  },
  {
   "cell_type": "markdown",
   "metadata": {},
   "source": [
    "**Bonus:** write a script that takes all the duplicates out of the list. (This is a python thing, not a beautiful soup thing.)"
   ]
  },
  {
   "cell_type": "code",
   "execution_count": 247,
   "metadata": {},
   "outputs": [
    {
     "data": {
      "text/plain": [
       "['Antonio. ',\n",
       " 'Boatswain. ',\n",
       " 'Alonso. ',\n",
       " 'Mariners. ',\n",
       " 'Master. ',\n",
       " 'Sebastian. ',\n",
       " 'Gonzalo. ']"
      ]
     },
     "execution_count": 247,
     "metadata": {},
     "output_type": "execute_result"
    }
   ],
   "source": [
    "real_characters = list(set(characters))\n",
    "real_characters"
   ]
  },
  {
   "cell_type": "markdown",
   "metadata": {},
   "source": [
    "Display every stage direction in _scene 2_"
   ]
  },
  {
   "cell_type": "code",
   "execution_count": 248,
   "metadata": {},
   "outputs": [
    {
     "name": "stdout",
     "output_type": "stream",
     "text": [
      "[Enter PROSPERO and MIRANDA]\n",
      "[Enter ARIEL]\n",
      "[Exit]\n",
      "[Enter CALIBAN]\n",
      "[Draws, and is charmed from moving]\n",
      "[Exeunt]\n"
     ]
    }
   ],
   "source": [
    "directions = soup_doc.find_all('div')[3].find_all(class_=\"stagedir\")\n",
    "for direction in directions:\n",
    "    print(direction.string)"
   ]
  },
  {
   "cell_type": "code",
   "execution_count": null,
   "metadata": {},
   "outputs": [],
   "source": [
    "#alternative ways\n",
    "scene2 = soup_doc.find_all('div')[3]\n",
    "staged = scene2.find_all(['p','i'])\n",
    "for direction in staged:\n",
    "    print(direction.text)"
   ]
  },
  {
   "cell_type": "markdown",
   "metadata": {},
   "source": [
    "Get the HTML containing Miranda's first speech in Scene 2"
   ]
  },
  {
   "cell_type": "code",
   "execution_count": 11,
   "metadata": {},
   "outputs": [
    {
     "data": {
      "text/plain": [
       "<li class=\"playtext\"><strong>Miranda. </strong>If by your art, my dearest father, you have\n",
       " <span class=\"playlinenum\">85</span><br/>Put the wild waters in this roar, allay them.\n",
       "<br/>The sky, it seems, would pour down stinking pitch,\n",
       "<br/>But that the sea, mounting to the welkin's cheek,\n",
       "<br/>Dashes the fire out. O, I have suffered\n",
       "<br/>With those that I saw suffer: a brave vessel,\n",
       " <span class=\"playlinenum\">90</span><br/>Who had, no doubt, some noble creature in her,\n",
       "<br/>Dash'd all to pieces. O, the cry did knock\n",
       "<br/>Against my very heart. Poor souls, they perish'd.\n",
       "<br/>Had I been any god of power, I would\n",
       "<br/>Have sunk the sea within the earth or ere\n",
       " <span class=\"playlinenum\">95</span><br/>It should the good ship so have swallow'd and\n",
       "<br/>The fraughting souls within her.\n",
       "</li>"
      ]
     },
     "execution_count": 11,
     "metadata": {},
     "output_type": "execute_result"
    }
   ],
   "source": [
    "texts = soup_doc.find_all('div')[3].find_all(\"li\")\n",
    "mirandas = [text for text in texts if text.strong.string == 'Miranda. ']\n",
    "mirandas[0]"
   ]
  },
  {
   "cell_type": "markdown",
   "metadata": {},
   "source": [
    "Now display those **same lines without the speaker's name, and no HTML.**\n",
    "\n",
    "This is a bit tricky, try to get as close to this result as you can. (Note: I didn't get the numbers out of there, but it's fine if you want to get them out too):\n",
    "\n",
    "`If by your art, my dearest father, you have\n",
    " \n",
    "85\n",
    "Put the wild waters in this roar, allay them.\n",
    "\n",
    "The sky, it seems, would pour down stinking pitch,\n",
    "\n",
    "But that the sea, mounting to the welkin's cheek,\n",
    "\n",
    "Dashes the fire out. O, I have suffered\n",
    "\n",
    "With those that I saw suffer: a brave vessel,\n",
    " \n",
    "90\n",
    "Who had, no doubt, some noble creature in her,\n",
    "\n",
    "Dash'd all to pieces. O, the cry did knock\n",
    "\n",
    "Against my very heart. Poor souls, they perish'd.\n",
    "\n",
    "Had I been any god of power, I would\n",
    "\n",
    "Have sunk the sea within the earth or ere\n",
    " \n",
    "95\n",
    "It should the good ship so have swallow'd and\n",
    "\n",
    "The fraughting souls within her.`"
   ]
  },
  {
   "cell_type": "code",
   "execution_count": 23,
   "metadata": {},
   "outputs": [
    {
     "name": "stdout",
     "output_type": "stream",
     "text": [
      "If by your art, my dearest father, you have\n",
      "85\n",
      "Put the wild waters in this roar, allay them.\n",
      "The sky, it seems, would pour down stinking pitch,\n",
      "But that the sea, mounting to the welkin's cheek,\n",
      "Dashes the fire out. O, I have suffered\n",
      "With those that I saw suffer: a brave vessel,\n",
      "90\n",
      "Who had, no doubt, some noble creature in her,\n",
      "Dash'd all to pieces. O, the cry did knock\n",
      "Against my very heart. Poor souls, they perish'd.\n",
      "Had I been any god of power, I would\n",
      "Have sunk the sea within the earth or ere\n",
      "95\n",
      "It should the good ship so have swallow'd and\n",
      "The fraughting souls within her.\n"
     ]
    }
   ],
   "source": [
    "miranda = mirandas[0]\n",
    "miranda.strong.stripped_string\n",
    "for string in miranda.stripped_strings:\n",
    "     if string != 'Miranda.':\n",
    "            print(string)"
   ]
  },
  {
   "cell_type": "markdown",
   "metadata": {},
   "source": [
    "Get the HTML containing the speech after Miranda's"
   ]
  },
  {
   "cell_type": "code",
   "execution_count": 251,
   "metadata": {},
   "outputs": [
    {
     "name": "stdout",
     "output_type": "stream",
     "text": [
      "<ul><li class=\"playtext\"><strong>Prospero. </strong>Be collected:\n",
      "<br/>No more amazement: tell your piteous heart\n",
      "<br/>There's no harm done.\n",
      " <span class=\"playlinenum\">100</span></li></ul>\n",
      "-------\n",
      "<ul><li class=\"playtext\"><strong>Prospero. </strong>No harm.\n",
      "<br/>I have done nothing but in care of thee,\n",
      "<br/>Of thee, my dear one, thee, my daughter, who\n",
      "<br/>Art ignorant of what thou art, nought knowing\n",
      " <span class=\"playlinenum\">105</span><br/>Of whence I am, nor that I am more better\n",
      "<br/>Than Prospero, master of a full poor cell,\n",
      "<br/>And thy no greater father.\n",
      "</li></ul>\n",
      "-------\n",
      "<ul><li class=\"playtext\"><strong>Prospero. </strong>'Tis time\n",
      "<br/>I should inform thee farther. Lend thy hand,\n",
      "<br/>And pluck my magic garment from me. So:\n",
      "<br/><i>[Lays down his mantle]</i>\n",
      "<br/>Lie there, my art. Wipe thou thine eyes; have comfort.\n",
      " <span class=\"playlinenum\">115</span><br/>The direful spectacle of the wreck, which touch'd\n",
      "<br/>The very virtue of compassion in thee,\n",
      "<br/>I have with such provision in mine art\n",
      "<br/>So safely ordered that there is no soul—\n",
      "<br/>No, not so much perdition as an hair\n",
      " <span class=\"playlinenum\">120</span><br/>Betid to any creature in the vessel\n",
      "<br/>Which thou heard'st cry, which thou saw'st sink. Sit down;\n",
      "<br/>For thou must now know farther.\n",
      "</li></ul>\n",
      "-------\n",
      "<ul><li class=\"playtext\"><strong>Prospero. </strong>The hour's now come;\n",
      "<br/>The very minute bids thee ope thine ear;\n",
      "<br/>Obey and be attentive. Canst thou remember\n",
      " <span class=\"playlinenum\">130</span><br/>A time before we came unto this cell?\n",
      "<br/>I do not think thou canst, for then thou wast not\n",
      "<br/>Out three years old.\n",
      "</li></ul>\n",
      "-------\n",
      "<ul><li class=\"playtext\"><strong>Prospero. </strong>By what? by any other house or person?\n",
      " <span class=\"playlinenum\">135</span><br/>Of any thing the image tell me that\n",
      "<br/>Hath kept with thy remembrance.\n",
      "</li></ul>\n",
      "-------\n",
      "<ul><li class=\"playtext\"><strong>Prospero. </strong>Thou hadst, and more, Miranda. But how is it\n",
      "<br/>That this lives in thy mind? What seest thou else\n",
      "<br/>In the dark backward and abysm of time?\n",
      "<br/>If thou remember'st aught ere thou camest here,\n",
      " <span class=\"playlinenum\">145</span><br/>How thou camest here thou mayst.\n",
      "</li></ul>\n",
      "-------\n",
      "<ul><li class=\"playtext\"><strong>Prospero. </strong>Twelve year since, Miranda, twelve year since,\n",
      "<br/>Thy father was the Duke of Milan and\n",
      "<br/>A prince of power.\n",
      " <span class=\"playlinenum\">150</span></li></ul>\n",
      "-------\n",
      "<ul><li class=\"playtext\"><strong>Prospero. </strong>Thy mother was a piece of virtue, and\n",
      "<br/>She said thou wast my daughter; and thy father\n",
      "<br/>Was Duke of Milan; and thou his only heir\n",
      "<br/>And princess no worse issued.\n",
      " <span class=\"playlinenum\">155</span></li></ul>\n",
      "-------\n",
      "<ul><li class=\"playtext\"><strong>Prospero. </strong>Both, both, my girl:\n",
      "<br/>By foul play, as thou say'st, were we heaved thence,\n",
      " <span class=\"playlinenum\">160</span><br/>But blessedly holp hither.\n",
      "</li></ul>\n",
      "-------\n",
      "<ul><li class=\"playtext\"><strong>Prospero. </strong>My brother and thy uncle, call'd Antonio—\n",
      " <span class=\"playlinenum\">165</span><br/>I pray thee, mark me—that a brother should\n",
      "<br/>Be so perfidious!—he whom next thyself\n",
      "<br/>Of all the world I loved and to him put\n",
      "<br/>The manage of my state; as at that time\n",
      "<br/>Through all the signories it was the first\n",
      " <span class=\"playlinenum\">170</span><br/>And Prospero the prime duke, being so reputed\n",
      "<br/>In dignity, and for the liberal arts\n",
      "<br/>Without a parallel; those being all my study,\n",
      "<br/>The government I cast upon my brother\n",
      "<br/>And to my state grew stranger, being transported\n",
      " <span class=\"playlinenum\">175</span><br/>And rapt in secret studies. Thy false uncle—\n",
      "<br/>Dost thou attend me?\n",
      "</li></ul>\n",
      "-------\n",
      "<ul><li class=\"playtext\"><strong>Prospero. </strong>Being once perfected how to grant suits,\n",
      "<br/>How to deny them, who to advance and who\n",
      " <span class=\"playlinenum\">180</span><br/>To trash for over-topping, new created\n",
      "<br/>The creatures that were mine, I say, or changed 'em,\n",
      "<br/>Or else new form'd 'em; having both the key\n",
      "<br/>Of officer and office, set all hearts i' the state\n",
      "<br/>To what tune pleased his ear; that now he was\n",
      " <span class=\"playlinenum\">185</span><br/>The ivy which had hid my princely trunk,\n",
      "<br/>And suck'd my verdure out on't. Thou attend'st not.\n",
      "</li></ul>\n",
      "-------\n",
      "<ul><li class=\"playtext\"><strong>Prospero. </strong>I pray thee, mark me.\n",
      "<br/>I, thus neglecting worldly ends, all dedicated\n",
      " <span class=\"playlinenum\">190</span><br/>To closeness and the bettering of my mind\n",
      "<br/>With that which, but by being so retired,\n",
      "<br/>O'er-prized all popular rate, in my false brother\n",
      "<br/>Awaked an evil nature; and my trust,\n",
      "<br/>Like a good parent, did beget of him\n",
      " <span class=\"playlinenum\">195</span><br/>A falsehood in its contrary as great\n",
      "<br/>As my trust was; which had indeed no limit,\n",
      "<br/>A confidence sans bound. He being thus lorded,\n",
      "<br/>Not only with what my revenue yielded,\n",
      "<br/>But what my power might else exact, like one\n",
      " <span class=\"playlinenum\">200</span><br/>Who having into truth, by telling of it,\n",
      "<br/>Made such a sinner of his memory,\n",
      "<br/>To credit his own lie, he did believe\n",
      "<br/>He was indeed the duke; out o' the substitution\n",
      "<br/>And executing the outward face of royalty,\n",
      " <span class=\"playlinenum\">205</span><br/>With all prerogative: hence his ambition growing—\n",
      "<br/>Dost thou hear?\n",
      "</li></ul>\n",
      "-------\n",
      "<ul><li class=\"playtext\"><strong>Prospero. </strong>To have no screen between this part he play'd\n",
      "<br/>And him he play'd it for, he needs will be\n",
      " <span class=\"playlinenum\">210</span><br/>Absolute Milan. Me, poor man, my library\n",
      "<br/>Was dukedom large enough: of temporal royalties\n",
      "<br/>He thinks me now incapable; confederates—\n",
      "<br/>So dry he was for sway—wi' the King of Naples\n",
      "<br/>To give him annual tribute, do him homage,\n",
      " <span class=\"playlinenum\">215</span><br/>Subject his coronet to his crown and bend\n",
      "<br/>The dukedom yet unbow'd—alas, poor Milan!—\n",
      "<br/>To most ignoble stooping.\n",
      "</li></ul>\n",
      "-------\n",
      "<ul><li class=\"playtext\"><strong>Prospero. </strong>Mark his condition and the event; then tell me\n",
      " <span class=\"playlinenum\">220</span><br/>If this might be a brother.\n",
      "</li></ul>\n",
      "-------\n",
      "<ul><li class=\"playtext\"><strong>Prospero. </strong>Now the condition.\n",
      " <span class=\"playlinenum\">225</span><br/>The King of Naples, being an enemy\n",
      "<br/>To me inveterate, hearkens my brother's suit;\n",
      "<br/>Which was, that he, in lieu o' the premises\n",
      "<br/>Of homage and I know not how much tribute,\n",
      "<br/>Should presently extirpate me and mine\n",
      " <span class=\"playlinenum\">230</span><br/>Out of the dukedom and confer fair Milan\n",
      "<br/>With all the honours on my brother: whereon,\n",
      "<br/>A treacherous army levied, one midnight\n",
      "<br/>Fated to the purpose did Antonio open\n",
      "<br/>The gates of Milan, and, i' the dead of darkness,\n",
      " <span class=\"playlinenum\">235</span><br/>The ministers for the purpose hurried thence\n",
      "<br/>Me and thy crying self.\n",
      "</li></ul>\n",
      "-------\n",
      "<ul><li class=\"playtext\"><strong>Prospero. </strong>Hear a little further\n",
      "<br/>And then I'll bring thee to the present business\n",
      "<br/>Which now's upon's; without the which this story\n",
      "<br/>Were most impertinent.\n",
      " <span class=\"playlinenum\">245</span></li></ul>\n",
      "-------\n",
      "<ul><li class=\"playtext\"><strong>Prospero. </strong>Well demanded, wench:\n",
      "<br/>My tale provokes that question. Dear, they durst not,\n",
      "<br/>So dear the love my people bore me, nor set\n",
      " <span class=\"playlinenum\">250</span><br/>A mark so bloody on the business, but\n",
      "<br/>With colours fairer painted their foul ends.\n",
      "<br/>In few, they hurried us aboard a bark,\n",
      "<br/>Bore us some leagues to sea; where they prepared\n",
      "<br/>A rotten carcass of a boat, not rigg'd,\n",
      " <span class=\"playlinenum\">255</span><br/>Nor tackle, sail, nor mast; the very rats\n",
      "<br/>Instinctively had quit it: there they hoist us,\n",
      "<br/>To cry to the sea that roar'd to us, to sigh\n",
      "<br/>To the winds whose pity, sighing back again,\n",
      "<br/>Did us but loving wrong.\n",
      " <span class=\"playlinenum\">260</span></li></ul>\n",
      "-------\n",
      "<ul><li class=\"playtext\"><strong>Prospero. </strong>O, a cherubim\n",
      "<br/>Thou wast that did preserve me. Thou didst smile.\n",
      "<br/>Infused with a fortitude from heaven,\n",
      " <span class=\"playlinenum\">265</span><br/>When I have deck'd the sea with drops full salt,\n",
      "<br/>Under my burthen groan'd; which raised in me\n",
      "<br/>An undergoing stomach, to bear up\n",
      "<br/>Against what should ensue.\n",
      "</li></ul>\n",
      "-------\n",
      "<ul><li class=\"playtext\"><strong>Prospero. </strong>By Providence divine.\n",
      "<br/>Some food we had and some fresh water that\n",
      "<br/>A noble Neapolitan, Gonzalo,\n",
      "<br/>Out of his charity, being then appointed\n",
      "<br/>Master of this design, did give us, with\n",
      " <span class=\"playlinenum\">275</span><br/>Rich garments, linens, stuffs and necessaries,\n",
      "<br/>Which since have steaded much; so, of his gentleness,\n",
      "<br/>Knowing I loved my books, he furnish'd me\n",
      "<br/>From mine own library with volumes that\n",
      "<br/>I prize above my dukedom.\n",
      " <span class=\"playlinenum\">280</span></li></ul>\n",
      "-------\n",
      "<ul><li class=\"playtext\"><strong>Prospero. </strong>Now I arise:\n",
      "<br/><i>[Resumes his mantle]</i>\n",
      "<br/>Sit still, and hear the last of our sea-sorrow.\n",
      " <span class=\"playlinenum\">285</span><br/>Here in this island we arrived; and here\n",
      "<br/>Have I, thy schoolmaster, made thee more profit\n",
      "<br/>Than other princesses can that have more time\n",
      "<br/>For vainer hours and tutors not so careful.\n",
      "</li></ul>\n",
      "-------\n",
      "<ul><li class=\"playtext\"><strong>Prospero. </strong>Know thus far forth.\n",
      "<br/>By accident most strange, bountiful Fortune,\n",
      "<br/>Now my dear lady, hath mine enemies\n",
      " <span class=\"playlinenum\">295</span><br/>Brought to this shore; and by my prescience\n",
      "<br/>I find my zenith doth depend upon\n",
      "<br/>A most auspicious star, whose influence\n",
      "<br/>If now I court not but omit, my fortunes\n",
      "<br/>Will ever after droop. Here cease more questions:\n",
      " <span class=\"playlinenum\">300</span><br/>Thou art inclined to sleep; 'tis a good dulness,\n",
      "<br/>And give it way: I know thou canst not choose.\n",
      "<br/><i>[MIRANDA sleeps]</i>\n",
      "<br/>Come away, servant, come. I am ready now.\n",
      "<br/>Approach, my Ariel, come.\n",
      " <span class=\"playlinenum\">305</span></li></ul>\n",
      "-------\n",
      "<ul><li class=\"playtext\"><strong>Prospero. </strong>Shake it off. Come on;\n",
      " <span class=\"playlinenum\">450</span><br/>We'll visit Caliban my slave, who never\n",
      "<br/>Yields us kind answer.\n",
      "</li></ul>\n",
      "-------\n",
      "<ul><li class=\"playtext\"><strong>Prospero. </strong>But, as 'tis,\n",
      " <span class=\"playlinenum\">455</span><br/>We cannot miss him: he does make our fire,\n",
      "<br/>Fetch in our wood and serves in offices\n",
      "<br/>That profit us. What, ho! slave! Caliban!\n",
      "<br/>Thou earth, thou! speak.\n",
      "</li></ul>\n",
      "-------\n",
      "<ul><li class=\"playtext\"><strong>Caliban. </strong>You taught me language; and my profit on't\n",
      "<br/>Is, I know how to curse. The red plague rid you\n",
      "<br/>For learning me your language!\n",
      "</li></ul>\n",
      "-------\n",
      "<ul><li class=\"playtext\"><strong>Prospero. </strong>No, wench; it eats and sleeps and hath such senses\n",
      "<br/>As we have, such. This gallant which thou seest\n",
      "<br/>Was in the wreck; and, but he's something stain'd\n",
      "<br/>With grief that's beauty's canker, thou mightst call him\n",
      " <span class=\"playlinenum\">580</span><br/>A goodly person: he hath lost his fellows\n",
      "<br/>And strays about to find 'em.\n",
      "</li></ul>\n",
      "-------\n",
      "<ul><li class=\"playtext\"><strong>Prospero. </strong><i>[Aside]</i> It goes on, I see,\n",
      "<br/>As my soul prompts it. Spirit, fine spirit! I'll free thee\n",
      "<br/>Within two days for this.\n",
      "</li></ul>\n",
      "-------\n",
      "<ul><li class=\"playtext\"><strong>Ferdinand. </strong>My language! heavens!\n",
      "<br/>I am the best of them that speak this speech,\n",
      "<br/>Were I but where 'tis spoken.\n",
      " <span class=\"playlinenum\">600</span></li></ul>\n",
      "-------\n",
      "<ul><li class=\"playtext\"><strong>Ferdinand. </strong>Yes, faith, and all his lords; the Duke of Milan\n",
      "<br/>And his brave son being twain.\n",
      " <span class=\"playlinenum\">610</span></li></ul>\n",
      "-------\n",
      "<ul><li class=\"playtext\"><strong>Ferdinand. </strong>O, if a virgin,\n",
      "<br/>And your affection not gone forth, I'll make you\n",
      "<br/>The queen of Naples.\n",
      " <span class=\"playlinenum\">625</span></li></ul>\n",
      "-------\n",
      "<ul><li class=\"playtext\"><strong>Prospero. </strong>Follow me.\n",
      "<br/>Speak not you for him; he's a traitor. Come;\n",
      "<br/>I'll manacle thy neck and feet together:\n",
      "<br/>Sea-water shalt thou drink; thy food shall be\n",
      "<br/>The fresh-brook muscles, wither'd roots and husks\n",
      " <span class=\"playlinenum\">645</span><br/>Wherein the acorn cradled. Follow.\n",
      "</li></ul>\n",
      "-------\n",
      "<ul><li class=\"playtext\"><strong>Prospero. </strong>What? I say,\n",
      "<br/>My foot my tutor? Put thy sword up, traitor;\n",
      " <span class=\"playlinenum\">655</span><br/>Who makest a show but darest not strike, thy conscience\n",
      "<br/>Is so possess'd with guilt: come from thy ward,\n",
      "<br/>For I can here disarm thee with this stick\n",
      "<br/>And make thy weapon drop.\n",
      "</li></ul>\n",
      "-------\n",
      "<ul><li class=\"playtext\"><strong>Prospero. </strong>Hence! hang not on my garments.\n",
      "</li></ul>\n",
      "-------\n",
      "<ul><li class=\"playtext\"><strong>Prospero. </strong>Silence! one word more\n",
      "<br/>Shall make me chide thee, if not hate thee. What!\n",
      " <span class=\"playlinenum\">665</span><br/>An advocate for an imposter! hush!\n",
      "<br/>Thou think'st there is no more such shapes as he,\n",
      "<br/>Having seen but him and Caliban: foolish wench!\n",
      "<br/>To the most of men this is a Caliban\n",
      "<br/>And they to him are angels.\n",
      " <span class=\"playlinenum\">670</span></li></ul>\n",
      "-------\n",
      "<ul><li class=\"playtext\"><strong>Prospero. </strong>Come on; obey:\n",
      "<br/>Thy nerves are in their infancy again\n",
      " <span class=\"playlinenum\">675</span><br/>And have no vigour in them.\n",
      "</li></ul>\n",
      "-------\n",
      "<ul><li class=\"playtext\"><strong>Prospero. </strong>Thou shalt be free\n",
      "<br/>As mountain winds: but then exactly do\n",
      "<br/>All points of my command.\n",
      " <span class=\"playlinenum\">700</span></li></ul>\n",
      "-------\n"
     ]
    }
   ],
   "source": [
    "for miranda in mirandas:\n",
    "    print(miranda.parent.find_next_sibling())\n",
    "    print(\"-------\")"
   ]
  },
  {
   "cell_type": "markdown",
   "metadata": {
    "collapsed": true
   },
   "source": [
    "All done!"
   ]
  }
 ],
 "metadata": {
  "kernelspec": {
   "display_name": "Python 3 (ipykernel)",
   "language": "python",
   "name": "python3"
  },
  "language_info": {
   "codemirror_mode": {
    "name": "ipython",
    "version": 3
   },
   "file_extension": ".py",
   "mimetype": "text/x-python",
   "name": "python",
   "nbconvert_exporter": "python",
   "pygments_lexer": "ipython3",
   "version": "3.9.7"
  }
 },
 "nbformat": 4,
 "nbformat_minor": 2
}
